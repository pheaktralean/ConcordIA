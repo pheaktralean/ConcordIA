{
 "cells": [
  {
   "cell_type": "markdown",
   "id": "707a15a0",
   "metadata": {},
   "source": [
    "## How to decrypt the WoodGreen dataset file into a readable file and CSV version"
   ]
  },
  {
   "cell_type": "markdown",
   "id": "2b0e9ca9",
   "metadata": {},
   "source": [
    "#### STEP 1: Move the file\n",
    "Place the Excel file called\\\n",
    "<b> \"ANONYMIZED_WoodGreen_Client_Extract_All_Systems_27_October_2025.xlsx\"</b> \\\n",
    "into the folder named <b>woodgreen-data</b>."
   ]
  },
  {
   "cell_type": "markdown",
   "id": "dab2f0c5",
   "metadata": {},
   "source": [
    "#### STEP 2: Install neccesarry libraries"
   ]
  },
  {
   "cell_type": "code",
   "execution_count": 20,
   "id": "534ef193",
   "metadata": {},
   "outputs": [
    {
     "name": "stdout",
     "output_type": "stream",
     "text": [
      "Defaulting to user installation because normal site-packages is not writeable\n",
      "Requirement already satisfied: msoffcrypto-tool in /Users/sopheaktralean/Library/Python/3.9/lib/python/site-packages (5.4.2)\n",
      "Requirement already satisfied: pandas in /Users/sopheaktralean/Library/Python/3.9/lib/python/site-packages (2.3.2)\n",
      "Requirement already satisfied: openpyxl in /Users/sopheaktralean/Library/Python/3.9/lib/python/site-packages (3.1.5)\n",
      "Requirement already satisfied: cryptography>=39.0 in /Users/sopheaktralean/Library/Python/3.9/lib/python/site-packages (from msoffcrypto-tool) (46.0.3)\n",
      "Requirement already satisfied: olefile>=0.46 in /Users/sopheaktralean/Library/Python/3.9/lib/python/site-packages (from msoffcrypto-tool) (0.47)\n",
      "Requirement already satisfied: numpy>=1.22.4 in /Users/sopheaktralean/Library/Python/3.9/lib/python/site-packages (from pandas) (2.0.2)\n",
      "Requirement already satisfied: python-dateutil>=2.8.2 in /Users/sopheaktralean/Library/Python/3.9/lib/python/site-packages (from pandas) (2.9.0.post0)\n",
      "Requirement already satisfied: pytz>=2020.1 in /Users/sopheaktralean/Library/Python/3.9/lib/python/site-packages (from pandas) (2025.2)\n",
      "Requirement already satisfied: tzdata>=2022.7 in /Users/sopheaktralean/Library/Python/3.9/lib/python/site-packages (from pandas) (2025.2)\n",
      "Requirement already satisfied: et-xmlfile in /Users/sopheaktralean/Library/Python/3.9/lib/python/site-packages (from openpyxl) (2.0.0)\n",
      "Requirement already satisfied: cffi>=2.0.0 in /Users/sopheaktralean/Library/Python/3.9/lib/python/site-packages (from cryptography>=39.0->msoffcrypto-tool) (2.0.0)\n",
      "Requirement already satisfied: typing-extensions>=4.13.2 in /Users/sopheaktralean/Library/Python/3.9/lib/python/site-packages (from cryptography>=39.0->msoffcrypto-tool) (4.15.0)\n",
      "Requirement already satisfied: six>=1.5 in /Library/Developer/CommandLineTools/Library/Frameworks/Python3.framework/Versions/3.9/lib/python3.9/site-packages (from python-dateutil>=2.8.2->pandas) (1.15.0)\n",
      "Requirement already satisfied: pycparser in /Users/sopheaktralean/Library/Python/3.9/lib/python/site-packages (from cffi>=2.0.0->cryptography>=39.0->msoffcrypto-tool) (2.23)\n",
      "\n",
      "\u001b[1m[\u001b[0m\u001b[34;49mnotice\u001b[0m\u001b[1;39;49m]\u001b[0m\u001b[39;49m A new release of pip is available: \u001b[0m\u001b[31;49m24.3.1\u001b[0m\u001b[39;49m -> \u001b[0m\u001b[32;49m25.3\u001b[0m\n",
      "\u001b[1m[\u001b[0m\u001b[34;49mnotice\u001b[0m\u001b[1;39;49m]\u001b[0m\u001b[39;49m To update, run: \u001b[0m\u001b[32;49m/Library/Developer/CommandLineTools/usr/bin/python3 -m pip install --upgrade pip\u001b[0m\n",
      "Note: you may need to restart the kernel to use updated packages.\n"
     ]
    }
   ],
   "source": [
    "%pip install msoffcrypto-tool pandas openpyxl"
   ]
  },
  {
   "cell_type": "markdown",
   "id": "43d41086",
   "metadata": {},
   "source": [
    "#### STEP 3: Import the libraries "
   ]
  },
  {
   "cell_type": "code",
   "execution_count": 21,
   "id": "7e3f1e33",
   "metadata": {},
   "outputs": [],
   "source": [
    "import msoffcrypto\n",
    "import io\n",
    "import pandas as pd"
   ]
  },
  {
   "cell_type": "markdown",
   "id": "b9be38e0",
   "metadata": {},
   "source": [
    "#### STEP 4: Update the password and decrypt the file"
   ]
  },
  {
   "cell_type": "code",
   "execution_count": 22,
   "id": "232665e4",
   "metadata": {},
   "outputs": [
    {
     "name": "stdout",
     "output_type": "stream",
     "text": [
      "File successfully decrypted and saved as: WoodGreen_Unlocked.xlsx\n",
      "Columns: ['Unique Record ID', 'Surname', 'First Given Name', 'Sex', 'Marital Status', 'Birth Date (YYMMDD)', 'Year of Birth', 'Month of Birth', 'Day of Birth', 'Birth Province / Country Code', 'Social Insurance Number', 'Provincial Health Insurance Number', 'Home Province Code', 'Home Address', 'Home Address Postal Code', 'Creation Date', 'Last Modified', 'System Registration', 'emailaddress1_DC', 'statecode_DC', 'mir_primary_phone_DC', 'modifiedon_DC', 'employmentstatus_DC', 'mir_workwithanyemployer_DC', 'mir_looking_for_work_DC', 'crmd_canadianexperience_DC', 'work_experience_DC', 'years_of_work_experience_DC', 'mir_minimum_one_year_experience_DC', 'mir_history_of_poor_work_retention_DC', 'mir_labor_market_change_DC', 'time_out_of_school_work_training_DC', 'mir_internationallytrainedprofessionals_DC', 'internationallytrainedtype_DC', 'primaryincomesource_DC', 'mir_lowincome_DC', 'mir_individual_monthly_income_after_tax_DC', 'mir_family_income_per_year_after_tax_DC', 'mir_low_income_cut_off_licos_after_tax_DC', 'statuscode_DC', 'program_startdate_DC', 'program_enddate_DC', 'program_name_DC', 'program_status_DC', 'Full Name_AC', 'Age_AC', 'Name_AC', 'Status_AC', 'Department Name_AC', 'Start Date_AC', 'Discharge Date_AC', 'cims client preferred language_AC', 'Client Middle Name_AC', 'Client Preferred Name_AC', 'Client Race/Background (Identity) 1_AC', 'Client Education_AC', 'Client Financial Source(s)_AC', 'Client directions lines_AC', 'Client mobility_AC', 'Client Preferred Language_AC', 'Client Supervisor Name_AC', 'Client Communication Method_AC', 'Client living arrangement_AC', 'Client Health Card Version_AC', 'Client referral_sources_AC', 'Client Current household income range_AC', 'Client Client Marital Status_AC', 'Client Service Pattern_AC', 'Client Address Line 2_AC', 'Client City_AC', 'Client Email_AC', 'Client Phone (Main)_AC', 'Client Phone (Other)_AC', 'Client Date Enrolled_AC', 'Client Intake Date_AC', 'Client Medical Status_AC', 'HMYPERSON_YD', 'HPROPERTY_YD', 'SUNITCODE_YD', 'ISTATUS_YD', 'SADDR2_YD', 'SCITY_YD', 'DTLEASEFROM_YD', 'SRENT_YD', 'DTMOVEIN_YD', 'DTMOVEOUT_YD', 'DTNOTICE_YD', 'DTLEASETO_YD', 'DTLASTMODIFIED_YD', 'Member Name_YD', 'Relationship To Main Tenant_YD', 'Person with Disabilites_YD', 'Vision Impaired_YD', 'Hearing Impaired_YD', 'Wheelchair_YD', 'Mobility Issues_YD', 'Walker_YD', 'Scooter_YD', 'Accessibility Requirements_YD', 'Fire & Ambulance Assistance_YD', 'Newcommer_YD', 'Status in Canada_YD', 'Car Model_YD', 'License Plate Number_YD', 'Parking Spot Number_YD', 'Property Code_YD', 'Property Name_YD', 'Property Notes_YD', 'MemberFN_YD', 'MemberLN_YD', 'Client_ID_Old_HB', 'CP_ID_HB', 'C_Prefername_HB', 'pStatus_HB', 'Status_HB', 'IntakeStatus_HB', 'homelessflag_HB', 'C_Gender_HB', 'RequestProgram_ID_HB', 'BPWGroup_HB', 'CohortGroup_HB', 'TGRIP_HB', 'BackgroundCheck_HB', 'AssignedCC_HB', 'C_Unit_HB', 'C_City_ID_HB', 'C_City_HB', 'C_Province_ID_HB', 'C_mPhoneType_ID_HB', 'C_mPhone_HB', 'C_sPhoneType_ID_HB', 'C_sPhone_HB', 'C_email_HB', 'hbdate_HB', 'hbaddress_HB', 'hbnmbr_HB', 'hbunitsize_HB', 'ProjectExitDate_HB', 'e_FirstName_HB', 'e_LastName_HB', 'e_Phone_HB', 'e_email_HB', 'TrePass_HB', 'HighRisk_HB', 'CPID_UNQ_HB', 'RG_Location_HB', 'RG_date_HB', 'consent_HB', 'EnterBy_HB', 'UpdateDate_HB', 'UpdateBy_HB', 'DELETED_HB', 'DELETEDATE_HB', 'DELETEDBY_HB', 'HousingStatus_HB', 'Name_CC', 'Associated Contact_CC', 'Role_CC', 'Relationship Type_CC', 'Relation_CC', 'City_CC', 'Location_CC', 'Current Service Status_CC', 'Current Service Location_CC', 'Current Service Area_CC', 'Contact Since Date_CC', 'Service Start Date_CC', 'Modified On_CC', 'System_CU', 'ClientID_CU', 'ClientName_CU', 'City_CU', 'Program_CU', 'Race_CU', 'Culture_CU', 'Religion_CU', 'PreferredLanguage_CU', 'Phone_CU', 'WithdrawalDate_CU', 'ReasonForWithdrawal_CU', 'Citizenship_CU', 'Primary Diagnosis_CU', 'MODIFIEDON_TR', 'ClientAddressCity_TR', 'Citizenship_TR', 'Program Name_TR', 'DischargeDateY-M-D_TR', 'Encounter Status_TR']\n",
      "                       Unique Record ID  \\\n",
      "0  8bdf0164-655c-499b-a8c2-f24287fcb1df   \n",
      "1  05b4b45e-6479-eb11-b1ab-000d3a0c8c6d   \n",
      "2  e4766af0-3179-eb11-b1ab-000d3a0c8c6d   \n",
      "3  4c1f6765-5472-4082-b76d-5deadb0dd133   \n",
      "4  0765e7bf-f5b0-4fcf-8ee4-9340a77402e6   \n",
      "\n",
      "                                             Surname  \\\n",
      "0  772a3c28fa4865405bb32f73bed14c1e9f73ca7a7b247b...   \n",
      "1  fd96a8e09b6e406d2f0b65d8f112b8a84910e92099015a...   \n",
      "2  9f542590100424c92a6ae40860f7017ac5dfbcff3cb49b...   \n",
      "3  8ba0076deef91e8e38c7478b1023e15f50d7ddb3e41d50...   \n",
      "4  00c1e468e4e4b1d39812fd02c8c5a0cba81828a5682ece...   \n",
      "\n",
      "                                    First Given Name    Sex Marital Status  \\\n",
      "0  e099f18a6135e2c26a88252d992f97e56fcb99755bb404...    Man        Married   \n",
      "1  8c1a4f812e20b014b2a3dfc95b6e72132f4fe37220b48e...    Man        Married   \n",
      "2  86b4c4510b01eed5f8477e4a22f72f2b0bf68a4a294fe5...    Man         Single   \n",
      "3  b499ad80c5eb653b0f296321b609f32072f3522e9577ad...  Woman            NaN   \n",
      "4  48e5ab71158127dbe997a9bb36450c9b0f41f3cd2e8353...  Woman         Single   \n",
      "\n",
      "                                 Birth Date (YYMMDD)  Year of Birth  \\\n",
      "0  0c584bee677897fa9ca1867103fa2730ca0c2884ebde74...         1981.0   \n",
      "1  56c7c92cf81bb269d8eb0c4bb21229dfe665186097e06d...         1974.0   \n",
      "2  e3f551306b913b5199940ae07c846233a06548dbaf1f4e...         1985.0   \n",
      "3  01a3cc44743a8be0120cba55bd36f9b1af23e0f5dffabc...         1975.0   \n",
      "4  0096477ed6f82636fcaf82b6a0add7ab369c45fd4bb998...         2003.0   \n",
      "\n",
      "                                      Month of Birth  \\\n",
      "0  6cd5b6e51936a442b973660c21553dd22bd72ddc875113...   \n",
      "1  aacd834b5cdc64a329e27649143406dd068306542988df...   \n",
      "2  aacd834b5cdc64a329e27649143406dd068306542988df...   \n",
      "3  a953f09a1b6b6725b81956e9ad0b1eb49e3ad40004c043...   \n",
      "4  4fc82b26aecb47d2868c4efbe3581732a3e7cbcc6c2efb...   \n",
      "\n",
      "                                        Day of Birth  \\\n",
      "0  3fdba35f04dc8c462986c992bcf875546257113072a909...   \n",
      "1  670671cd97404156226e507973f2ab8330d3022ca96e0c...   \n",
      "2  4a44dc15364204a80fe80e9039455cc1608281820fe2b2...   \n",
      "3  4ec9599fc203d176a301536c2e091a19bc852759b255bd...   \n",
      "4  4ec9599fc203d176a301536c2e091a19bc852759b255bd...   \n",
      "\n",
      "  Birth Province / Country Code  ... WithdrawalDate_CU ReasonForWithdrawal_CU  \\\n",
      "0                      Pakistan  ...               NaN                    NaN   \n",
      "1                         China  ...               NaN                    NaN   \n",
      "2                        Canada  ...               NaN                    NaN   \n",
      "3                           NaN  ...               NaN                    NaN   \n",
      "4                         China  ...               NaN                    NaN   \n",
      "\n",
      "  Citizenship_CU Primary Diagnosis_CU MODIFIEDON_TR ClientAddressCity_TR  \\\n",
      "0            NaN                  NaN           NaT                  NaN   \n",
      "1            NaN                  NaN           NaT                  NaN   \n",
      "2            NaN                  NaN           NaT                  NaN   \n",
      "3            NaN                  NaN           NaT                  NaN   \n",
      "4            NaN                  NaN           NaT                  NaN   \n",
      "\n",
      "  Citizenship_TR Program Name_TR DischargeDateY-M-D_TR  Encounter Status_TR  \n",
      "0            NaN             NaN                   NaT                  NaN  \n",
      "1            NaN             NaN                   NaT                  NaN  \n",
      "2            NaN             NaN                   NaT                  NaN  \n",
      "3            NaN             NaN                   NaT                  NaN  \n",
      "4            NaN             NaN                   NaT                  NaN  \n",
      "\n",
      "[5 rows x 188 columns]\n"
     ]
    }
   ],
   "source": [
    "# Original password-protected file\n",
    "input_file = \"ANONYMIZED_WoodGreen_Client_Extract_All_Systems_27_October_2025.xlsx\"\n",
    "\n",
    "# Output file (decrypted copy)\n",
    "output_file = \"WoodGreen_Unlocked.xlsx\"\n",
    "\n",
    "# Unlock the file\n",
    "with open(input_file, \"rb\") as f:\n",
    "    office_file = msoffcrypto.OfficeFile(f)\n",
    "    office_file.load_key(password=\"WgN7$eF!9rZq42pT\")  # <---- Use the provided password\n",
    "    with open(output_file, \"wb\") as out:\n",
    "        office_file.decrypt(out)\n",
    "\n",
    "print(\"File successfully decrypted and saved as:\", output_file)\n",
    "\n",
    "# Preview columns\n",
    "df = pd.read_excel(output_file)\n",
    "print(\"Columns:\", df.columns.tolist())\n",
    "print(df.head())"
   ]
  },
  {
   "cell_type": "markdown",
   "id": "43d332fd",
   "metadata": {},
   "source": [
    "#### STEP 5: Convert a csv file"
   ]
  },
  {
   "cell_type": "code",
   "execution_count": 24,
   "id": "17e4a224",
   "metadata": {},
   "outputs": [],
   "source": [
    "df = pd.read_excel(\"WoodGreen_Unlocked.xlsx\")\n",
    "df.to_csv(\"WoodGreen_All_Systems.csv\", index=False)"
   ]
  },
  {
   "cell_type": "code",
   "execution_count": 25,
   "id": "2fc37be5",
   "metadata": {},
   "outputs": [
    {
     "name": "stderr",
     "output_type": "stream",
     "text": [
      "/var/folders/3s/j5qq7fvd5jn_tvdy41sw66bm0000gn/T/ipykernel_39828/2464737578.py:1: DtypeWarning: Columns (0,3,4,9,12,15,16,21,22,26,27,31,33,34,40,41,42,43,46,47,48,49,50,51,52,54,55,56,57,58,59,61,62,63,64,65,66,67,69,73,74,75,76,77,78,79,81,82,84,85,86,87,88,90,91,92,93,94,95,96,97,98,99,100,101,102,104,106,107,111,113,114,115,117,126,127,133,135,137,144,146,148,149,152,153,154,155,157,158,159,160,162,164,165,166,167,168,171,172,173,174,175,176,178,179,180,181,182,183,184,185,186,187) have mixed types. Specify dtype option on import or set low_memory=False.\n",
      "  df = pd.read_csv(\"WoodGreen_All_Systems.csv\")\n"
     ]
    },
    {
     "name": "stdout",
     "output_type": "stream",
     "text": [
      "['Unique Record ID', 'Surname', 'First Given Name', 'Sex', 'Marital Status', 'Birth Date (YYMMDD)', 'Year of Birth', 'Month of Birth', 'Day of Birth', 'Birth Province / Country Code', 'Social Insurance Number', 'Provincial Health Insurance Number', 'Home Province Code', 'Home Address', 'Home Address Postal Code', 'Creation Date', 'Last Modified', 'System Registration', 'emailaddress1_DC', 'statecode_DC', 'mir_primary_phone_DC', 'modifiedon_DC', 'employmentstatus_DC', 'mir_workwithanyemployer_DC', 'mir_looking_for_work_DC', 'crmd_canadianexperience_DC', 'work_experience_DC', 'years_of_work_experience_DC', 'mir_minimum_one_year_experience_DC', 'mir_history_of_poor_work_retention_DC', 'mir_labor_market_change_DC', 'time_out_of_school_work_training_DC', 'mir_internationallytrainedprofessionals_DC', 'internationallytrainedtype_DC', 'primaryincomesource_DC', 'mir_lowincome_DC', 'mir_individual_monthly_income_after_tax_DC', 'mir_family_income_per_year_after_tax_DC', 'mir_low_income_cut_off_licos_after_tax_DC', 'statuscode_DC', 'program_startdate_DC', 'program_enddate_DC', 'program_name_DC', 'program_status_DC', 'Full Name_AC', 'Age_AC', 'Name_AC', 'Status_AC', 'Department Name_AC', 'Start Date_AC', 'Discharge Date_AC', 'cims client preferred language_AC', 'Client Middle Name_AC', 'Client Preferred Name_AC', 'Client Race/Background (Identity) 1_AC', 'Client Education_AC', 'Client Financial Source(s)_AC', 'Client directions lines_AC', 'Client mobility_AC', 'Client Preferred Language_AC', 'Client Supervisor Name_AC', 'Client Communication Method_AC', 'Client living arrangement_AC', 'Client Health Card Version_AC', 'Client referral_sources_AC', 'Client Current household income range_AC', 'Client Client Marital Status_AC', 'Client Service Pattern_AC', 'Client Address Line 2_AC', 'Client City_AC', 'Client Email_AC', 'Client Phone (Main)_AC', 'Client Phone (Other)_AC', 'Client Date Enrolled_AC', 'Client Intake Date_AC', 'Client Medical Status_AC', 'HMYPERSON_YD', 'HPROPERTY_YD', 'SUNITCODE_YD', 'ISTATUS_YD', 'SADDR2_YD', 'SCITY_YD', 'DTLEASEFROM_YD', 'SRENT_YD', 'DTMOVEIN_YD', 'DTMOVEOUT_YD', 'DTNOTICE_YD', 'DTLEASETO_YD', 'DTLASTMODIFIED_YD', 'Member Name_YD', 'Relationship To Main Tenant_YD', 'Person with Disabilites_YD', 'Vision Impaired_YD', 'Hearing Impaired_YD', 'Wheelchair_YD', 'Mobility Issues_YD', 'Walker_YD', 'Scooter_YD', 'Accessibility Requirements_YD', 'Fire & Ambulance Assistance_YD', 'Newcommer_YD', 'Status in Canada_YD', 'Car Model_YD', 'License Plate Number_YD', 'Parking Spot Number_YD', 'Property Code_YD', 'Property Name_YD', 'Property Notes_YD', 'MemberFN_YD', 'MemberLN_YD', 'Client_ID_Old_HB', 'CP_ID_HB', 'C_Prefername_HB', 'pStatus_HB', 'Status_HB', 'IntakeStatus_HB', 'homelessflag_HB', 'C_Gender_HB', 'RequestProgram_ID_HB', 'BPWGroup_HB', 'CohortGroup_HB', 'TGRIP_HB', 'BackgroundCheck_HB', 'AssignedCC_HB', 'C_Unit_HB', 'C_City_ID_HB', 'C_City_HB', 'C_Province_ID_HB', 'C_mPhoneType_ID_HB', 'C_mPhone_HB', 'C_sPhoneType_ID_HB', 'C_sPhone_HB', 'C_email_HB', 'hbdate_HB', 'hbaddress_HB', 'hbnmbr_HB', 'hbunitsize_HB', 'ProjectExitDate_HB', 'e_FirstName_HB', 'e_LastName_HB', 'e_Phone_HB', 'e_email_HB', 'TrePass_HB', 'HighRisk_HB', 'CPID_UNQ_HB', 'RG_Location_HB', 'RG_date_HB', 'consent_HB', 'EnterBy_HB', 'UpdateDate_HB', 'UpdateBy_HB', 'DELETED_HB', 'DELETEDATE_HB', 'DELETEDBY_HB', 'HousingStatus_HB', 'Name_CC', 'Associated Contact_CC', 'Role_CC', 'Relationship Type_CC', 'Relation_CC', 'City_CC', 'Location_CC', 'Current Service Status_CC', 'Current Service Location_CC', 'Current Service Area_CC', 'Contact Since Date_CC', 'Service Start Date_CC', 'Modified On_CC', 'System_CU', 'ClientID_CU', 'ClientName_CU', 'City_CU', 'Program_CU', 'Race_CU', 'Culture_CU', 'Religion_CU', 'PreferredLanguage_CU', 'Phone_CU', 'WithdrawalDate_CU', 'ReasonForWithdrawal_CU', 'Citizenship_CU', 'Primary Diagnosis_CU', 'MODIFIEDON_TR', 'ClientAddressCity_TR', 'Citizenship_TR', 'Program Name_TR', 'DischargeDateY-M-D_TR', 'Encounter Status_TR']\n"
     ]
    }
   ],
   "source": [
    "df = pd.read_csv(\"WoodGreen_All_Systems.csv\")\n",
    "print(df.columns.tolist())"
   ]
  }
 ],
 "metadata": {
  "kernelspec": {
   "display_name": "Python 3",
   "language": "python",
   "name": "python3"
  },
  "language_info": {
   "codemirror_mode": {
    "name": "ipython",
    "version": 3
   },
   "file_extension": ".py",
   "mimetype": "text/x-python",
   "name": "python",
   "nbconvert_exporter": "python",
   "pygments_lexer": "ipython3",
   "version": "3.9.6"
  }
 },
 "nbformat": 4,
 "nbformat_minor": 5
}
