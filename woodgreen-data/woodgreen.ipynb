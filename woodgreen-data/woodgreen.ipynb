{
 "cells": [
  {
   "cell_type": "markdown",
   "id": "707a15a0",
   "metadata": {},
   "source": [
    "## How to decrypt the WoodGreen dataset file into a readable file and CSV version"
   ]
  },
  {
   "cell_type": "markdown",
   "id": "2b0e9ca9",
   "metadata": {},
   "source": [
    "#### STEP 1: Move the file\n",
    "Place the Excel file called\\\n",
    "<b> \"ANONYMIZED_WoodGreen_Client_Extract_All_Systems_27_October_2025.xlsx\"</b> \\\n",
    "into the folder named <b>woodgreen-data</b>."
   ]
  },
  {
   "cell_type": "markdown",
   "id": "dab2f0c5",
   "metadata": {},
   "source": [
    "#### STEP 2: Install neccesarry libraries"
   ]
  },
  {
   "cell_type": "code",
   "execution_count": null,
   "id": "534ef193",
   "metadata": {},
   "outputs": [],
   "source": [
    "%pip install msoffcrypto-tool pandas openpyxl"
   ]
  },
  {
   "cell_type": "markdown",
   "id": "43d41086",
   "metadata": {},
   "source": [
    "#### STEP 3: Import the libraries "
   ]
  },
  {
   "cell_type": "code",
   "execution_count": 21,
   "id": "7e3f1e33",
   "metadata": {},
   "outputs": [],
   "source": [
    "import msoffcrypto\n",
    "import io\n",
    "import pandas as pd"
   ]
  },
  {
   "cell_type": "markdown",
   "id": "b9be38e0",
   "metadata": {},
   "source": [
    "#### STEP 4: Update the password and decrypt the file"
   ]
  },
  {
   "cell_type": "code",
   "execution_count": null,
   "id": "232665e4",
   "metadata": {},
   "outputs": [],
   "source": [
    "# Original password-protected file\n",
    "input_file = \"ANONYMIZED_WoodGreen_Client_Extract_All_Systems_27_October_2025.xlsx\"\n",
    "\n",
    "# Output file (decrypted copy)\n",
    "output_file = \"WoodGreen_Unlocked.xlsx\"\n",
    "\n",
    "# Unlock the file\n",
    "with open(input_file, \"rb\") as f:\n",
    "    office_file = msoffcrypto.OfficeFile(f)\n",
    "    office_file.load_key(password=\"WgN7$eF!9rZq42pT\")  # <---- Use the provided password\n",
    "    with open(output_file, \"wb\") as out:\n",
    "        office_file.decrypt(out)\n",
    "\n",
    "print(\"File successfully decrypted and saved as:\", output_file)\n",
    "\n",
    "# Preview columns\n",
    "df = pd.read_excel(output_file)\n",
    "print(\"Columns:\", df.columns.tolist())\n",
    "print(df.head())"
   ]
  },
  {
   "cell_type": "markdown",
   "id": "43d332fd",
   "metadata": {},
   "source": [
    "#### STEP 5: Convert a csv file"
   ]
  },
  {
   "cell_type": "code",
   "execution_count": 24,
   "id": "17e4a224",
   "metadata": {},
   "outputs": [],
   "source": [
    "df = pd.read_excel(\"WoodGreen_Unlocked.xlsx\")\n",
    "df.to_csv(\"WoodGreen_All_Systems.csv\", index=False)"
   ]
  },
  {
   "cell_type": "code",
   "execution_count": null,
   "id": "2fc37be5",
   "metadata": {},
   "outputs": [],
   "source": [
    "df = pd.read_csv(\"WoodGreen_All_Systems.csv\")\n",
    "print(df.columns.tolist())"
   ]
  }
 ],
 "metadata": {
  "kernelspec": {
   "display_name": "Python 3",
   "language": "python",
   "name": "python3"
  },
  "language_info": {
   "codemirror_mode": {
    "name": "ipython",
    "version": 3
   },
   "file_extension": ".py",
   "mimetype": "text/x-python",
   "name": "python",
   "nbconvert_exporter": "python",
   "pygments_lexer": "ipython3",
   "version": "3.9.6"
  }
 },
 "nbformat": 4,
 "nbformat_minor": 5
}
