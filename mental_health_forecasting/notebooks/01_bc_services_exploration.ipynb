{
 "cells": [
  {
   "cell_type": "markdown",
   "id": "0bad025f",
   "metadata": {},
   "source": [
    "## British Columbia Mental Health Data Manipulation"
   ]
  },
  {
   "cell_type": "code",
   "execution_count": 1,
   "id": "f8f497ac",
   "metadata": {},
   "outputs": [],
   "source": [
    "import pandas as pd"
   ]
  },
  {
   "cell_type": "code",
   "execution_count": 7,
   "id": "436e000a",
   "metadata": {},
   "outputs": [],
   "source": [
    "df = pd.read_csv('/Users/sopheaktralean/Downloads/ConcordIA/mental_health_forecasting/data/mental_health/bc_mental_health_service.csv')"
   ]
  },
  {
   "cell_type": "code",
   "execution_count": 8,
   "id": "ddc6b83d",
   "metadata": {},
   "outputs": [
    {
     "name": "stdout",
     "output_type": "stream",
     "text": [
      "                              MHSU_GUID  \\\n",
      "0  e5b8cea1-9ffe-11f0-a1ff-005056836228   \n",
      "1  e5b9900e-9ffe-11f0-9473-005056836228   \n",
      "2  e5b9900f-9ffe-11f0-af38-005056836228   \n",
      "3  e5b99010-9ffe-11f0-972a-005056836228   \n",
      "4  e5b99011-9ffe-11f0-9bfd-005056836228   \n",
      "\n",
      "                        GPCE_TAXONOMY_CLASSIFICATION  \\\n",
      "0  Alcohol Addictions and Other Substances|Body I...   \n",
      "1  Alcohol Addictions and Other Substances|Body I...   \n",
      "2            Alcohol Addictions and Other Substances   \n",
      "3            Alcohol Addictions and Other Substances   \n",
      "4  Alcohol Addictions and Other Substances|Body I...   \n",
      "\n",
      "                             AUDIENCE STUDENTS  \\\n",
      "0                  Children and Youth       No   \n",
      "1  Adults|Students|Children and Youth      Yes   \n",
      "2                              Adults       No   \n",
      "3  Adults|Students|Children and Youth      Yes   \n",
      "4  Adults|Students|Children and Youth      Yes   \n",
      "\n",
      "                                       TAXONOMY_NAME  \\\n",
      "0                       Adolescent/Youth Counselling   \n",
      "1                Mental Health Information/Education   \n",
      "2  Residential Substance Use Disorder Treatment F...   \n",
      "3                 Substance Use Disorder Counselling   \n",
      "4  Adolescent/Youth Counselling|Individual Counse...   \n",
      "\n",
      "                          RG_NAME                       SV_NAME  \\\n",
      "0  Urban Native Youth Association    Aboriginal Youth Safehouse   \n",
      "1  Urban Native Youth Association           2-Spirit Collective   \n",
      "2  Urban Native Youth Association             Young Bears Lodge   \n",
      "3  Urban Native Youth Association  Alcohol and Drug Counselling   \n",
      "4  Urban Native Youth Association          Clinical Counselling   \n",
      "\n",
      "                                      SV_DESCRIPTION    PHONE_NUMBER  \\\n",
      "0  Provides short-term emergency shelter for both...  (604) 254-7732   \n",
      "1  Provides support, resources, and programming f...  (604) 254-7732   \n",
      "2  Provides a 16 week, live-in, culturally-based ...  (604) 322-7577   \n",
      "3  Offers community-based substance use counselli...  (604) 254-7732   \n",
      "4  Provides individual counselling to Indigenous ...  (604) 254-7732   \n",
      "\n",
      "                                             WEBSITE  ... LANGUAGE HOURS  \\\n",
      "0  https://unya.bc.ca/programs/aboriginal-youth-s...  ...  English   NaN   \n",
      "1   https://unya.bc.ca/programs/2-spirit-collective/  ...  English   NaN   \n",
      "2     https://unya.bc.ca/programs/young-bears-lodge/  ...  English   NaN   \n",
      "3  https://unya.bc.ca/programs/alcohol-drug-couns...  ...  English   NaN   \n",
      "4  https://unya.bc.ca/programs/alcohol-drug-couns...  ...  English   NaN   \n",
      "\n",
      "            STREET_NUMBER       CITY PROVINCE POSTAL_CODE   LATITUDE  \\\n",
      "0                     NaN        NaN      NaN         NaN        NaN   \n",
      "1  1618 E Hastings Street  Vancouver       BC     V5L 1S6  49.281279   \n",
      "2                     NaN        NaN      NaN         NaN        NaN   \n",
      "3  1618 E Hastings Street  Vancouver       BC     V5L 1S6  49.281279   \n",
      "4  1618 E Hastings Street  Vancouver       BC     V5L 1S6  49.281279   \n",
      "\n",
      "    LONGITUDE  MHSU_SPECIFIC_TERMS_ENHANCED_SEARCH  \\\n",
      "0         NaN                        mentalHealth3   \n",
      "1 -123.072101                        mentalHealth3   \n",
      "2         NaN                        mentalHealth3   \n",
      "3 -123.072101                        mentalHealth3   \n",
      "4 -123.072101                        mentalHealth3   \n",
      "\n",
      "                                 KEYWORD_SEARCH_TEXT  \n",
      "0  Adolescent/Youth Counselling Urban Native Yout...  \n",
      "1  Mental Health Information/Education Urban Nati...  \n",
      "2  Residential Substance Use Disorder Treatment F...  \n",
      "3  Substance Use Disorder Counselling Urban Nativ...  \n",
      "4  Adolescent/Youth Counselling Individual Counse...  \n",
      "\n",
      "[5 rows x 22 columns]\n"
     ]
    }
   ],
   "source": [
    "print(df.head())"
   ]
  },
  {
   "cell_type": "code",
   "execution_count": 9,
   "id": "a33f06d7",
   "metadata": {},
   "outputs": [
    {
     "name": "stdout",
     "output_type": "stream",
     "text": [
      "Index(['MHSU_GUID', 'GPCE_TAXONOMY_CLASSIFICATION', 'AUDIENCE', 'STUDENTS',\n",
      "       'TAXONOMY_NAME', 'RG_NAME', 'SV_NAME', 'SV_DESCRIPTION', 'PHONE_NUMBER',\n",
      "       'WEBSITE', 'EMAIL_ADDRESS', 'WHEELCHAIR_ACCESSIBLE', 'LANGUAGE',\n",
      "       'HOURS', 'STREET_NUMBER', 'CITY', 'PROVINCE', 'POSTAL_CODE', 'LATITUDE',\n",
      "       'LONGITUDE', 'MHSU_SPECIFIC_TERMS_ENHANCED_SEARCH',\n",
      "       'KEYWORD_SEARCH_TEXT'],\n",
      "      dtype='object')\n"
     ]
    }
   ],
   "source": [
    "print(df.columns)"
   ]
  }
 ],
 "metadata": {
  "kernelspec": {
   "display_name": "Python 3",
   "language": "python",
   "name": "python3"
  },
  "language_info": {
   "codemirror_mode": {
    "name": "ipython",
    "version": 3
   },
   "file_extension": ".py",
   "mimetype": "text/x-python",
   "name": "python",
   "nbconvert_exporter": "python",
   "pygments_lexer": "ipython3",
   "version": "3.9.6"
  }
 },
 "nbformat": 4,
 "nbformat_minor": 5
}
