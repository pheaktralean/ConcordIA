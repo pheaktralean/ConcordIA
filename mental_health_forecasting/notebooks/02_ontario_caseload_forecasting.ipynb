{
 "cells": [
  {
   "cell_type": "markdown",
   "id": "546a2a9a",
   "metadata": {},
   "source": [
    "# Ontario Social Assistance"
   ]
  },
  {
   "cell_type": "code",
   "execution_count": 4,
   "id": "1c152903",
   "metadata": {},
   "outputs": [],
   "source": [
    "import pandas as pd\n",
    "\n",
    "ow = pd.read_csv('/Users/sopheaktralean/Downloads/ConcordIA/mental_health_forecasting/data/social_assistance/ontario_works_caseload_timeseries.csv')\n",
    "odsp = pd.read_csv('/Users/sopheaktralean/Downloads/ConcordIA/mental_health_forecasting/data/social_assistance/odsp_caseload_timeseries.csv')\n"
   ]
  },
  {
   "cell_type": "code",
   "execution_count": 5,
   "id": "9b237be6",
   "metadata": {},
   "outputs": [
    {
     "name": "stdout",
     "output_type": "stream",
     "text": [
      "    Month   Singles - Cases     Singles - Beneficiaries     Couples - Cases    \\\n",
      "0  25-Jun             202,759                     202,759              24,545   \n",
      "1  25-May             202,673                     202,673              24,650   \n",
      "2  25-Apr             201,940                     201,940              24,777   \n",
      "3  25-Mar             201,032                     201,032              24,503   \n",
      "4  25-Feb             200,229                     200,229              24,774   \n",
      "\n",
      "    Couples - Beneficiaries     Sole Support Parents - Cases    \\\n",
      "0                      93,654                           65,084   \n",
      "1                      94,191                           64,746   \n",
      "2                      94,720                           64,037   \n",
      "3                      93,812                           63,543   \n",
      "4                      94,972                           63,833   \n",
      "\n",
      "    Sole Support Parents - Beneficiaries     All Family Structures - Cases    \\\n",
      "0                                  187,877                           292,389   \n",
      "1                                  187,003                           292,069   \n",
      "2                                  184,956                           290,754   \n",
      "3                                  183,687                           289,078   \n",
      "4                                  184,600                           288,836   \n",
      "\n",
      "    All Family Structures - Beneficiaries    \n",
      "0                                   484,290  \n",
      "1                                   483,867  \n",
      "2                                   481,615  \n",
      "3                                   478,532  \n",
      "4                                   479,801  \n",
      "<class 'pandas.core.frame.DataFrame'>\n",
      "RangeIndex: 77 entries, 0 to 76\n",
      "Data columns (total 9 columns):\n",
      " #   Column                                     Non-Null Count  Dtype \n",
      "---  ------                                     --------------  ----- \n",
      " 0   Month                                      77 non-null     object\n",
      " 1     Singles - Cases                          77 non-null     object\n",
      " 2     Singles - Beneficiaries                  77 non-null     object\n",
      " 3     Couples - Cases                          77 non-null     object\n",
      " 4     Couples - Beneficiaries                  77 non-null     object\n",
      " 5     Sole Support Parents - Cases             77 non-null     object\n",
      " 6     Sole Support Parents - Beneficiaries     77 non-null     object\n",
      " 7     All Family Structures - Cases            77 non-null     object\n",
      " 8     All Family Structures - Beneficiaries    77 non-null     object\n",
      "dtypes: object(9)\n",
      "memory usage: 5.5+ KB\n",
      "None\n"
     ]
    }
   ],
   "source": [
    "print(ow.head())\n",
    "print(ow.info())"
   ]
  },
  {
   "cell_type": "code",
   "execution_count": 6,
   "id": "4be17927",
   "metadata": {},
   "outputs": [
    {
     "name": "stdout",
     "output_type": "stream",
     "text": [
      "    Month   Singles - Cases     Singles - Beneficiaries     Couples - Cases    \\\n",
      "0  25-Jun             302,806                     302,806              36,954   \n",
      "1  25-May             304,224                     304,224              37,867   \n",
      "2  25-Apr             303,689                     303,689              37,873   \n",
      "3  25-Mar             303,369                     303,369              37,883   \n",
      "4  25-Feb             301,403                     301,403              37,241   \n",
      "\n",
      "    Couples - Beneficiaries     Sole Support Parents - Cases    \\\n",
      "0                     110,504                           34,229   \n",
      "1                     113,128                           34,356   \n",
      "2                     113,209                           34,310   \n",
      "3                     113,027                           34,163   \n",
      "4                     111,149                           33,967   \n",
      "\n",
      "    Sole Support Parents - Beneficiaries     All Family Structures - Cases    \\\n",
      "0                                   89,947                           373,989   \n",
      "1                                   90,195                           376,447   \n",
      "2                                   90,002                           375,872   \n",
      "3                                   89,632                           375,415   \n",
      "4                                   89,102                           372,611   \n",
      "\n",
      "    All Family Structures - Beneficiaries    \n",
      "0                                   503,257  \n",
      "1                                   507,547  \n",
      "2                                   506,900  \n",
      "3                                   506,028  \n",
      "4                                   501,654  \n",
      "<class 'pandas.core.frame.DataFrame'>\n",
      "RangeIndex: 77 entries, 0 to 76\n",
      "Data columns (total 9 columns):\n",
      " #   Column                                     Non-Null Count  Dtype \n",
      "---  ------                                     --------------  ----- \n",
      " 0   Month                                      77 non-null     object\n",
      " 1     Singles - Cases                          77 non-null     object\n",
      " 2     Singles - Beneficiaries                  77 non-null     object\n",
      " 3     Couples - Cases                          77 non-null     object\n",
      " 4     Couples - Beneficiaries                  77 non-null     object\n",
      " 5     Sole Support Parents - Cases             77 non-null     object\n",
      " 6     Sole Support Parents - Beneficiaries     77 non-null     object\n",
      " 7     All Family Structures - Cases            77 non-null     object\n",
      " 8     All Family Structures - Beneficiaries    77 non-null     object\n",
      "dtypes: object(9)\n",
      "memory usage: 5.5+ KB\n",
      "None\n"
     ]
    }
   ],
   "source": [
    "print(odsp.head())\n",
    "print(odsp.info())"
   ]
  }
 ],
 "metadata": {
  "kernelspec": {
   "display_name": "Python 3",
   "language": "python",
   "name": "python3"
  },
  "language_info": {
   "codemirror_mode": {
    "name": "ipython",
    "version": 3
   },
   "file_extension": ".py",
   "mimetype": "text/x-python",
   "name": "python",
   "nbconvert_exporter": "python",
   "pygments_lexer": "ipython3",
   "version": "3.9.6"
  }
 },
 "nbformat": 4,
 "nbformat_minor": 5
}
